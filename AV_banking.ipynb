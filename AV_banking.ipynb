{
 "cells": [
  {
   "cell_type": "markdown",
   "metadata": {},
   "source": [
    "### MACHINE LEARNING FOR BANKING -- ANALYTICS VIDHYA"
   ]
  },
  {
   "cell_type": "markdown",
   "metadata": {},
   "source": [
    "#### AGENDA:\n",
    "To build a ML model to predict the loan rate category(1 / 2 / 3) that will be assigned to each loan in our customer dataset.\n",
    "\n",
    "###### TARGET VARIABLE       [Classification problem]\n",
    "Loan Rate Category : No of classes is 3 [Multi class Target variable]"
   ]
  },
  {
   "cell_type": "markdown",
   "metadata": {},
   "source": [
    "#### Machine Learning Algorithm used\n",
    "\n",
    "1. XGBoost Algorithm\n",
    "2. LightGBM Algorithm"
   ]
  },
  {
   "cell_type": "code",
   "execution_count": 1,
   "metadata": {},
   "outputs": [],
   "source": [
    "import numpy as np\n",
    "import pandas as pd\n",
    "from pandas import DataFrame, Series\n",
    "import matplotlib.pyplot as plt\n",
    "%matplotlib inline"
   ]
  },
  {
   "cell_type": "code",
   "execution_count": 2,
   "metadata": {},
   "outputs": [],
   "source": [
    "import sklearn.model_selection as model_selection"
   ]
  },
  {
   "cell_type": "code",
   "execution_count": 3,
   "metadata": {},
   "outputs": [],
   "source": [
    "import sklearn.metrics as metrics"
   ]
  },
  {
   "cell_type": "code",
   "execution_count": 4,
   "metadata": {},
   "outputs": [],
   "source": [
    "dt_tr=pd.read_csv(\"train_bnk.csv\")           ####  train dataset\n",
    "dt_ts=pd.read_csv(\"test_bnk.csv\")            ####  test dataset"
   ]
  },
  {
   "cell_type": "markdown",
   "metadata": {},
   "source": [
    "#### DATA PREPERATION FOR TRAIN DATASET\n",
    "\n",
    "1. Detecting outlier  --- Using IQR formula   \n",
    "2. Imputing Null values"
   ]
  },
  {
   "cell_type": "code",
   "execution_count": 5,
   "metadata": {},
   "outputs": [
    {
     "data": {
      "text/plain": [
       "(164309, 14)"
      ]
     },
     "execution_count": 5,
     "metadata": {},
     "output_type": "execute_result"
    }
   ],
   "source": [
    "dt_tr.shape"
   ]
  },
  {
   "cell_type": "code",
   "execution_count": 6,
   "metadata": {},
   "outputs": [
    {
     "data": {
      "text/html": [
       "<div>\n",
       "<style scoped>\n",
       "    .dataframe tbody tr th:only-of-type {\n",
       "        vertical-align: middle;\n",
       "    }\n",
       "\n",
       "    .dataframe tbody tr th {\n",
       "        vertical-align: top;\n",
       "    }\n",
       "\n",
       "    .dataframe thead th {\n",
       "        text-align: right;\n",
       "    }\n",
       "</style>\n",
       "<table border=\"1\" class=\"dataframe\">\n",
       "  <thead>\n",
       "    <tr style=\"text-align: right;\">\n",
       "      <th></th>\n",
       "      <th>Loan_ID</th>\n",
       "      <th>Loan_Amount_Requested</th>\n",
       "      <th>Length_Employed</th>\n",
       "      <th>Home_Owner</th>\n",
       "      <th>Annual_Income</th>\n",
       "      <th>Income_Verified</th>\n",
       "      <th>Purpose_Of_Loan</th>\n",
       "      <th>Debt_To_Income</th>\n",
       "      <th>Inquiries_Last_6Mo</th>\n",
       "      <th>Months_Since_Deliquency</th>\n",
       "      <th>Number_Open_Accounts</th>\n",
       "      <th>Total_Accounts</th>\n",
       "      <th>Gender</th>\n",
       "      <th>Interest_Rate</th>\n",
       "    </tr>\n",
       "  </thead>\n",
       "  <tbody>\n",
       "    <tr>\n",
       "      <th>0</th>\n",
       "      <td>10000001</td>\n",
       "      <td>7,000</td>\n",
       "      <td>&lt; 1 year</td>\n",
       "      <td>Rent</td>\n",
       "      <td>68000.0</td>\n",
       "      <td>not verified</td>\n",
       "      <td>car</td>\n",
       "      <td>18.37</td>\n",
       "      <td>0</td>\n",
       "      <td>NaN</td>\n",
       "      <td>9</td>\n",
       "      <td>14</td>\n",
       "      <td>Female</td>\n",
       "      <td>1</td>\n",
       "    </tr>\n",
       "    <tr>\n",
       "      <th>1</th>\n",
       "      <td>10000002</td>\n",
       "      <td>30,000</td>\n",
       "      <td>4 years</td>\n",
       "      <td>Mortgage</td>\n",
       "      <td>NaN</td>\n",
       "      <td>VERIFIED - income</td>\n",
       "      <td>debt_consolidation</td>\n",
       "      <td>14.93</td>\n",
       "      <td>0</td>\n",
       "      <td>17.0</td>\n",
       "      <td>12</td>\n",
       "      <td>24</td>\n",
       "      <td>Female</td>\n",
       "      <td>3</td>\n",
       "    </tr>\n",
       "    <tr>\n",
       "      <th>2</th>\n",
       "      <td>10000003</td>\n",
       "      <td>24,725</td>\n",
       "      <td>7 years</td>\n",
       "      <td>Mortgage</td>\n",
       "      <td>75566.4</td>\n",
       "      <td>VERIFIED - income source</td>\n",
       "      <td>debt_consolidation</td>\n",
       "      <td>15.88</td>\n",
       "      <td>0</td>\n",
       "      <td>NaN</td>\n",
       "      <td>12</td>\n",
       "      <td>16</td>\n",
       "      <td>Male</td>\n",
       "      <td>3</td>\n",
       "    </tr>\n",
       "    <tr>\n",
       "      <th>3</th>\n",
       "      <td>10000004</td>\n",
       "      <td>16,000</td>\n",
       "      <td>&lt; 1 year</td>\n",
       "      <td>NaN</td>\n",
       "      <td>56160.0</td>\n",
       "      <td>VERIFIED - income source</td>\n",
       "      <td>debt_consolidation</td>\n",
       "      <td>14.34</td>\n",
       "      <td>3</td>\n",
       "      <td>NaN</td>\n",
       "      <td>16</td>\n",
       "      <td>22</td>\n",
       "      <td>Male</td>\n",
       "      <td>3</td>\n",
       "    </tr>\n",
       "    <tr>\n",
       "      <th>4</th>\n",
       "      <td>10000005</td>\n",
       "      <td>17,000</td>\n",
       "      <td>8 years</td>\n",
       "      <td>Own</td>\n",
       "      <td>96000.0</td>\n",
       "      <td>VERIFIED - income source</td>\n",
       "      <td>debt_consolidation</td>\n",
       "      <td>22.17</td>\n",
       "      <td>1</td>\n",
       "      <td>NaN</td>\n",
       "      <td>19</td>\n",
       "      <td>30</td>\n",
       "      <td>Female</td>\n",
       "      <td>1</td>\n",
       "    </tr>\n",
       "  </tbody>\n",
       "</table>\n",
       "</div>"
      ],
      "text/plain": [
       "    Loan_ID Loan_Amount_Requested Length_Employed Home_Owner  Annual_Income  \\\n",
       "0  10000001                 7,000        < 1 year       Rent        68000.0   \n",
       "1  10000002                30,000         4 years   Mortgage            NaN   \n",
       "2  10000003                24,725         7 years   Mortgage        75566.4   \n",
       "3  10000004                16,000        < 1 year        NaN        56160.0   \n",
       "4  10000005                17,000         8 years        Own        96000.0   \n",
       "\n",
       "            Income_Verified     Purpose_Of_Loan  Debt_To_Income  \\\n",
       "0              not verified                 car           18.37   \n",
       "1         VERIFIED - income  debt_consolidation           14.93   \n",
       "2  VERIFIED - income source  debt_consolidation           15.88   \n",
       "3  VERIFIED - income source  debt_consolidation           14.34   \n",
       "4  VERIFIED - income source  debt_consolidation           22.17   \n",
       "\n",
       "   Inquiries_Last_6Mo  Months_Since_Deliquency  Number_Open_Accounts  \\\n",
       "0                   0                      NaN                     9   \n",
       "1                   0                     17.0                    12   \n",
       "2                   0                      NaN                    12   \n",
       "3                   3                      NaN                    16   \n",
       "4                   1                      NaN                    19   \n",
       "\n",
       "   Total_Accounts  Gender  Interest_Rate  \n",
       "0              14  Female              1  \n",
       "1              24  Female              3  \n",
       "2              16    Male              3  \n",
       "3              22    Male              3  \n",
       "4              30  Female              1  "
      ]
     },
     "execution_count": 6,
     "metadata": {},
     "output_type": "execute_result"
    }
   ],
   "source": [
    "dt_tr.head()"
   ]
  },
  {
   "cell_type": "code",
   "execution_count": 7,
   "metadata": {},
   "outputs": [
    {
     "data": {
      "text/plain": [
       "Loan_ID                      int64\n",
       "Loan_Amount_Requested       object\n",
       "Length_Employed             object\n",
       "Home_Owner                  object\n",
       "Annual_Income              float64\n",
       "Income_Verified             object\n",
       "Purpose_Of_Loan             object\n",
       "Debt_To_Income             float64\n",
       "Inquiries_Last_6Mo           int64\n",
       "Months_Since_Deliquency    float64\n",
       "Number_Open_Accounts         int64\n",
       "Total_Accounts               int64\n",
       "Gender                      object\n",
       "Interest_Rate                int64\n",
       "dtype: object"
      ]
     },
     "execution_count": 7,
     "metadata": {},
     "output_type": "execute_result"
    }
   ],
   "source": [
    "dt_tr.dtypes"
   ]
  },
  {
   "cell_type": "code",
   "execution_count": 8,
   "metadata": {},
   "outputs": [
    {
     "data": {
      "text/plain": [
       "Loan_ID                        0\n",
       "Loan_Amount_Requested          0\n",
       "Length_Employed             7371\n",
       "Home_Owner                 25349\n",
       "Annual_Income              25102\n",
       "Income_Verified                0\n",
       "Purpose_Of_Loan                0\n",
       "Debt_To_Income                 0\n",
       "Inquiries_Last_6Mo             0\n",
       "Months_Since_Deliquency    88379\n",
       "Number_Open_Accounts           0\n",
       "Total_Accounts                 0\n",
       "Gender                         0\n",
       "Interest_Rate                  0\n",
       "dtype: int64"
      ]
     },
     "execution_count": 8,
     "metadata": {},
     "output_type": "execute_result"
    }
   ],
   "source": [
    "dt_tr.isnull().sum()"
   ]
  },
  {
   "cell_type": "code",
   "execution_count": 9,
   "metadata": {},
   "outputs": [],
   "source": [
    "dt_tr[\"Loan_Amount_Requested\"]=dt_tr[\"Loan_Amount_Requested\"].str.replace(\",\",\"\")"
   ]
  },
  {
   "cell_type": "code",
   "execution_count": 10,
   "metadata": {},
   "outputs": [],
   "source": [
    "dt_tr[\"Loan_Amount_Requested\"]=pd.to_numeric(dt_tr[\"Loan_Amount_Requested\"],errors='coerce')"
   ]
  },
  {
   "cell_type": "code",
   "execution_count": 11,
   "metadata": {},
   "outputs": [
    {
     "data": {
      "text/plain": [
       "0.00      500.0\n",
       "0.01     1800.0\n",
       "0.02     2300.0\n",
       "0.03     2800.0\n",
       "0.04     3000.0\n",
       "0.05     3500.0\n",
       "0.06     4000.0\n",
       "0.07     4000.0\n",
       "0.08     4500.0\n",
       "0.09     4800.0\n",
       "0.10     5000.0\n",
       "0.11     5000.0\n",
       "0.12     5000.0\n",
       "0.13     5500.0\n",
       "0.14     5875.0\n",
       "0.15     6000.0\n",
       "0.16     6000.0\n",
       "0.17     6000.0\n",
       "0.18     6400.0\n",
       "0.19     6800.0\n",
       "0.20     7000.0\n",
       "0.21     7150.0\n",
       "0.22     7400.0\n",
       "0.23     7725.0\n",
       "0.24     8000.0\n",
       "0.25     8000.0\n",
       "0.26     8000.0\n",
       "0.27     8325.0\n",
       "0.28     8500.0\n",
       "0.29     9000.0\n",
       "         ...   \n",
       "0.70    18000.0\n",
       "0.71    18000.0\n",
       "0.72    18500.0\n",
       "0.73    19200.0\n",
       "0.74    19800.0\n",
       "0.75    20000.0\n",
       "0.76    20000.0\n",
       "0.77    20000.0\n",
       "0.78    20000.0\n",
       "0.79    20050.0\n",
       "0.80    21000.0\n",
       "0.81    21000.0\n",
       "0.82    22000.0\n",
       "0.83    22750.0\n",
       "0.84    23925.0\n",
       "0.85    24000.0\n",
       "0.86    24000.0\n",
       "0.87    25000.0\n",
       "0.88    25000.0\n",
       "0.89    25000.0\n",
       "0.90    26375.0\n",
       "0.91    28000.0\n",
       "0.92    28000.0\n",
       "0.93    29250.0\n",
       "0.94    30000.0\n",
       "0.95    30000.0\n",
       "0.96    33000.0\n",
       "0.97    35000.0\n",
       "0.98    35000.0\n",
       "0.99    35000.0\n",
       "Name: Loan_Amount_Requested, Length: 100, dtype: float64"
      ]
     },
     "execution_count": 11,
     "metadata": {},
     "output_type": "execute_result"
    }
   ],
   "source": [
    "dt_tr[\"Loan_Amount_Requested\"].quantile(np.arange(0,1,.01))"
   ]
  },
  {
   "cell_type": "code",
   "execution_count": 12,
   "metadata": {},
   "outputs": [],
   "source": [
    "dt_tr[\"Loan_Amount_Requested\"]=np.where(dt_tr[\"Loan_Amount_Requested\"]>32000,32000,dt_tr[\"Loan_Amount_Requested\"])"
   ]
  },
  {
   "cell_type": "code",
   "execution_count": 13,
   "metadata": {},
   "outputs": [
    {
     "data": {
      "text/plain": [
       "10+ years    52915\n",
       "2 years      14620\n",
       "3 years      12974\n",
       "< 1 year     12805\n",
       "5 years      10814\n",
       "1 year       10422\n",
       "4 years       9784\n",
       "7 years       9308\n",
       "6 years       9094\n",
       "8 years       7917\n",
       "9 years       6285\n",
       "Name: Length_Employed, dtype: int64"
      ]
     },
     "execution_count": 13,
     "metadata": {},
     "output_type": "execute_result"
    }
   ],
   "source": [
    "dt_tr['Length_Employed'].value_counts()"
   ]
  },
  {
   "cell_type": "code",
   "execution_count": 14,
   "metadata": {},
   "outputs": [
    {
     "data": {
      "text/html": [
       "<div>\n",
       "<style scoped>\n",
       "    .dataframe tbody tr th:only-of-type {\n",
       "        vertical-align: middle;\n",
       "    }\n",
       "\n",
       "    .dataframe tbody tr th {\n",
       "        vertical-align: top;\n",
       "    }\n",
       "\n",
       "    .dataframe thead th {\n",
       "        text-align: right;\n",
       "    }\n",
       "</style>\n",
       "<table border=\"1\" class=\"dataframe\">\n",
       "  <thead>\n",
       "    <tr style=\"text-align: right;\">\n",
       "      <th></th>\n",
       "      <th>Annual_Income</th>\n",
       "    </tr>\n",
       "    <tr>\n",
       "      <th>Length_Employed</th>\n",
       "      <th></th>\n",
       "    </tr>\n",
       "  </thead>\n",
       "  <tbody>\n",
       "    <tr>\n",
       "      <th>1 year</th>\n",
       "      <td>60000.0</td>\n",
       "    </tr>\n",
       "    <tr>\n",
       "      <th>10+ years</th>\n",
       "      <td>70000.0</td>\n",
       "    </tr>\n",
       "    <tr>\n",
       "      <th>2 years</th>\n",
       "      <td>60000.0</td>\n",
       "    </tr>\n",
       "    <tr>\n",
       "      <th>3 years</th>\n",
       "      <td>60000.0</td>\n",
       "    </tr>\n",
       "    <tr>\n",
       "      <th>4 years</th>\n",
       "      <td>60000.0</td>\n",
       "    </tr>\n",
       "    <tr>\n",
       "      <th>5 years</th>\n",
       "      <td>60000.0</td>\n",
       "    </tr>\n",
       "    <tr>\n",
       "      <th>6 years</th>\n",
       "      <td>61360.0</td>\n",
       "    </tr>\n",
       "    <tr>\n",
       "      <th>7 years</th>\n",
       "      <td>62000.0</td>\n",
       "    </tr>\n",
       "    <tr>\n",
       "      <th>8 years</th>\n",
       "      <td>63000.0</td>\n",
       "    </tr>\n",
       "    <tr>\n",
       "      <th>9 years</th>\n",
       "      <td>64000.0</td>\n",
       "    </tr>\n",
       "    <tr>\n",
       "      <th>&lt; 1 year</th>\n",
       "      <td>56000.0</td>\n",
       "    </tr>\n",
       "  </tbody>\n",
       "</table>\n",
       "</div>"
      ],
      "text/plain": [
       "                 Annual_Income\n",
       "Length_Employed               \n",
       "1 year                 60000.0\n",
       "10+ years              70000.0\n",
       "2 years                60000.0\n",
       "3 years                60000.0\n",
       "4 years                60000.0\n",
       "5 years                60000.0\n",
       "6 years                61360.0\n",
       "7 years                62000.0\n",
       "8 years                63000.0\n",
       "9 years                64000.0\n",
       "< 1 year               56000.0"
      ]
     },
     "execution_count": 14,
     "metadata": {},
     "output_type": "execute_result"
    }
   ],
   "source": [
    "dt_tr[['Length_Employed','Annual_Income']].groupby('Length_Employed').median()"
   ]
  },
  {
   "cell_type": "code",
   "execution_count": 15,
   "metadata": {},
   "outputs": [],
   "source": [
    "dt_tr.loc[dt_tr['Annual_Income'] <60000.00,'Length_Employed'] = dt_tr.loc[dt_tr['Annual_Income'] <60000.00,'Length_Employed'].fillna('< 1 year')"
   ]
  },
  {
   "cell_type": "code",
   "execution_count": 16,
   "metadata": {},
   "outputs": [],
   "source": [
    "dt_tr.loc[dt_tr['Annual_Income'] >=60000.00,'Length_Employed'] = dt_tr.loc[dt_tr['Annual_Income'] >=60000.00,'Length_Employed'].fillna('2 years')"
   ]
  },
  {
   "cell_type": "code",
   "execution_count": 17,
   "metadata": {},
   "outputs": [],
   "source": [
    "dt_tr.loc[dt_tr['Annual_Income']>=70000.00,'Length_Employed']=dt_tr.loc[dt_tr['Annual_Income']>=70000.00,'Length_Employed'].fillna('10+ years')"
   ]
  },
  {
   "cell_type": "code",
   "execution_count": 18,
   "metadata": {},
   "outputs": [],
   "source": [
    "dt_tr['Length_Employed'].fillna('10+ years',inplace= True)"
   ]
  },
  {
   "cell_type": "code",
   "execution_count": null,
   "metadata": {},
   "outputs": [],
   "source": []
  },
  {
   "cell_type": "code",
   "execution_count": 19,
   "metadata": {},
   "outputs": [
    {
     "data": {
      "text/plain": [
       "Mortgage    70345\n",
       "Rent        56031\n",
       "Own         12525\n",
       "Other          49\n",
       "None           10\n",
       "Name: Home_Owner, dtype: int64"
      ]
     },
     "execution_count": 19,
     "metadata": {},
     "output_type": "execute_result"
    }
   ],
   "source": [
    "dt_tr['Home_Owner'].value_counts()"
   ]
  },
  {
   "cell_type": "code",
   "execution_count": 20,
   "metadata": {},
   "outputs": [
    {
     "data": {
      "text/html": [
       "<div>\n",
       "<style scoped>\n",
       "    .dataframe tbody tr th:only-of-type {\n",
       "        vertical-align: middle;\n",
       "    }\n",
       "\n",
       "    .dataframe tbody tr th {\n",
       "        vertical-align: top;\n",
       "    }\n",
       "\n",
       "    .dataframe thead th {\n",
       "        text-align: right;\n",
       "    }\n",
       "</style>\n",
       "<table border=\"1\" class=\"dataframe\">\n",
       "  <thead>\n",
       "    <tr style=\"text-align: right;\">\n",
       "      <th></th>\n",
       "      <th>Annual_Income</th>\n",
       "    </tr>\n",
       "    <tr>\n",
       "      <th>Home_Owner</th>\n",
       "      <th></th>\n",
       "    </tr>\n",
       "  </thead>\n",
       "  <tbody>\n",
       "    <tr>\n",
       "      <th>Mortgage</th>\n",
       "      <td>72000.0</td>\n",
       "    </tr>\n",
       "    <tr>\n",
       "      <th>None</th>\n",
       "      <td>55650.0</td>\n",
       "    </tr>\n",
       "    <tr>\n",
       "      <th>Other</th>\n",
       "      <td>57500.0</td>\n",
       "    </tr>\n",
       "    <tr>\n",
       "      <th>Own</th>\n",
       "      <td>55000.0</td>\n",
       "    </tr>\n",
       "    <tr>\n",
       "      <th>Rent</th>\n",
       "      <td>54000.0</td>\n",
       "    </tr>\n",
       "  </tbody>\n",
       "</table>\n",
       "</div>"
      ],
      "text/plain": [
       "            Annual_Income\n",
       "Home_Owner               \n",
       "Mortgage          72000.0\n",
       "None              55650.0\n",
       "Other             57500.0\n",
       "Own               55000.0\n",
       "Rent              54000.0"
      ]
     },
     "execution_count": 20,
     "metadata": {},
     "output_type": "execute_result"
    }
   ],
   "source": [
    "dt_tr[['Home_Owner','Annual_Income']].groupby('Home_Owner').median()"
   ]
  },
  {
   "cell_type": "code",
   "execution_count": 21,
   "metadata": {},
   "outputs": [],
   "source": [
    "dt_tr.loc[dt_tr['Annual_Income']>=72000.0,'Home_Owner']=dt_tr.loc[dt_tr['Annual_Income']>=72000.0,'Home_Owner'].fillna('Mortgage')"
   ]
  },
  {
   "cell_type": "code",
   "execution_count": 22,
   "metadata": {},
   "outputs": [],
   "source": [
    "dt_tr.loc[dt_tr['Annual_Income']<72000.0,'Home_Owner']=dt_tr.loc[dt_tr['Annual_Income']<72000.0,'Home_Owner'].fillna('Rent')"
   ]
  },
  {
   "cell_type": "code",
   "execution_count": 23,
   "metadata": {},
   "outputs": [],
   "source": [
    "dt_tr['Home_Owner'].fillna('Mortgage',inplace=True)"
   ]
  },
  {
   "cell_type": "code",
   "execution_count": 24,
   "metadata": {},
   "outputs": [
    {
     "data": {
      "text/plain": [
       "0.00      4000.0000\n",
       "0.01     19000.0000\n",
       "0.02     22000.0000\n",
       "0.03     24996.0000\n",
       "0.04     26000.0000\n",
       "0.05     28000.0000\n",
       "0.06     30000.0000\n",
       "0.07     30000.0000\n",
       "0.08     31022.9712\n",
       "0.09     32004.0000\n",
       "0.10     34000.0000\n",
       "0.11     35000.0000\n",
       "0.12     35000.0000\n",
       "0.13     36000.0000\n",
       "0.14     37000.0000\n",
       "0.15     38000.0000\n",
       "0.16     39205.7600\n",
       "0.17     40000.0000\n",
       "0.18     40000.0000\n",
       "0.19     40000.0000\n",
       "0.20     41900.0000\n",
       "0.21     42000.0000\n",
       "0.22     43000.0000\n",
       "0.23     44000.0000\n",
       "0.24     45000.0000\n",
       "0.25     45000.0000\n",
       "0.26     45000.0000\n",
       "0.27     46435.7200\n",
       "0.28     47800.0000\n",
       "0.29     48000.0000\n",
       "           ...     \n",
       "0.70     81000.0000\n",
       "0.71     83000.0000\n",
       "0.72     85000.0000\n",
       "0.73     85000.0000\n",
       "0.74     86000.0000\n",
       "0.75     88697.5000\n",
       "0.76     90000.0000\n",
       "0.77     90000.0000\n",
       "0.78     92000.0000\n",
       "0.79     95000.0000\n",
       "0.80     96000.0000\n",
       "0.81     98000.0000\n",
       "0.82    100000.0000\n",
       "0.83    100000.0000\n",
       "0.84    103000.0000\n",
       "0.85    105000.0000\n",
       "0.86    109000.0000\n",
       "0.87    110000.0000\n",
       "0.88    115000.0000\n",
       "0.89    120000.0000\n",
       "0.90    120000.0000\n",
       "0.91    125000.0000\n",
       "0.92    130000.0000\n",
       "0.93    135000.0000\n",
       "0.94    140000.0000\n",
       "0.95    150000.0000\n",
       "0.96    157000.0000\n",
       "0.97    173000.0000\n",
       "0.98    195757.7200\n",
       "0.99    240000.0000\n",
       "Name: Annual_Income, Length: 100, dtype: float64"
      ]
     },
     "execution_count": 24,
     "metadata": {},
     "output_type": "execute_result"
    }
   ],
   "source": [
    "dt_tr['Annual_Income'].quantile(np.arange(0,1,0.01))"
   ]
  },
  {
   "cell_type": "code",
   "execution_count": 25,
   "metadata": {},
   "outputs": [
    {
     "data": {
      "text/plain": [
       "count    1.392070e+05\n",
       "mean     7.333116e+04\n",
       "std      6.037750e+04\n",
       "min      4.000000e+03\n",
       "25%      4.500000e+04\n",
       "50%      6.300000e+04\n",
       "75%      8.869750e+04\n",
       "max      7.500000e+06\n",
       "Name: Annual_Income, dtype: float64"
      ]
     },
     "execution_count": 25,
     "metadata": {},
     "output_type": "execute_result"
    }
   ],
   "source": [
    "dt_tr['Annual_Income'].describe()"
   ]
  },
  {
   "cell_type": "code",
   "execution_count": 26,
   "metadata": {},
   "outputs": [
    {
     "data": {
      "text/plain": [
       "43697.5"
      ]
     },
     "execution_count": 26,
     "metadata": {},
     "output_type": "execute_result"
    }
   ],
   "source": [
    "iqr=8.869750e+04-4.500000e+04\n",
    "iqr"
   ]
  },
  {
   "cell_type": "code",
   "execution_count": 27,
   "metadata": {},
   "outputs": [
    {
     "data": {
      "text/plain": [
       "1302.5"
      ]
     },
     "execution_count": 27,
     "metadata": {},
     "output_type": "execute_result"
    }
   ],
   "source": [
    "4.500000e+04-iqr"
   ]
  },
  {
   "cell_type": "code",
   "execution_count": 28,
   "metadata": {},
   "outputs": [
    {
     "data": {
      "text/plain": [
       "132395.0"
      ]
     },
     "execution_count": 28,
     "metadata": {},
     "output_type": "execute_result"
    }
   ],
   "source": [
    "8.869750e+04+iqr"
   ]
  },
  {
   "cell_type": "code",
   "execution_count": 29,
   "metadata": {},
   "outputs": [
    {
     "data": {
      "text/plain": [
       "157000.0"
      ]
     },
     "execution_count": 29,
     "metadata": {},
     "output_type": "execute_result"
    }
   ],
   "source": [
    "q1=dt_tr['Annual_Income'].quantile(0.96)\n",
    "q1"
   ]
  },
  {
   "cell_type": "code",
   "execution_count": 30,
   "metadata": {},
   "outputs": [],
   "source": [
    "dt_tr['Annual_Income']=np.where(dt_tr['Annual_Income']>q1,q1,dt_tr['Annual_Income'])"
   ]
  },
  {
   "cell_type": "code",
   "execution_count": 31,
   "metadata": {},
   "outputs": [],
   "source": [
    "dt_tr['Annual_Income'].fillna(63000.0,inplace=True)"
   ]
  },
  {
   "cell_type": "code",
   "execution_count": 32,
   "metadata": {},
   "outputs": [],
   "source": [
    "dt_tr['Months_Since_Deliquency'].fillna(31,inplace=True)"
   ]
  },
  {
   "cell_type": "code",
   "execution_count": 33,
   "metadata": {},
   "outputs": [],
   "source": [
    "dt_tr.drop([\"Loan_ID\"],axis=1,inplace=True)"
   ]
  },
  {
   "cell_type": "markdown",
   "metadata": {},
   "source": [
    "#### DATA PREPERATION FOR TEST DATASET\n",
    "\n",
    "Detecting outliers & Imputing null nalues"
   ]
  },
  {
   "cell_type": "code",
   "execution_count": 34,
   "metadata": {},
   "outputs": [
    {
     "data": {
      "text/plain": [
       "0    10164310\n",
       "1    10164311\n",
       "2    10164312\n",
       "3    10164313\n",
       "4    10164314\n",
       "Name: Loan_ID, dtype: int64"
      ]
     },
     "execution_count": 34,
     "metadata": {},
     "output_type": "execute_result"
    }
   ],
   "source": [
    "Loan_ID = dt_ts[\"Loan_ID\"]\n",
    "Loan_ID.head()"
   ]
  },
  {
   "cell_type": "code",
   "execution_count": 35,
   "metadata": {},
   "outputs": [],
   "source": [
    "dt_ts.drop([\"Loan_ID\"],axis=1,inplace=True)"
   ]
  },
  {
   "cell_type": "code",
   "execution_count": 36,
   "metadata": {},
   "outputs": [
    {
     "data": {
      "text/plain": [
       "Loan_Amount_Requested       object\n",
       "Length_Employed             object\n",
       "Home_Owner                  object\n",
       "Annual_Income              float64\n",
       "Income_Verified             object\n",
       "Purpose_Of_Loan             object\n",
       "Debt_To_Income             float64\n",
       "Inquiries_Last_6Mo           int64\n",
       "Months_Since_Deliquency    float64\n",
       "Number_Open_Accounts         int64\n",
       "Total_Accounts               int64\n",
       "Gender                      object\n",
       "dtype: object"
      ]
     },
     "execution_count": 36,
     "metadata": {},
     "output_type": "execute_result"
    }
   ],
   "source": [
    "dt_ts.dtypes"
   ]
  },
  {
   "cell_type": "code",
   "execution_count": 37,
   "metadata": {},
   "outputs": [
    {
     "data": {
      "text/plain": [
       "Loan_Amount_Requested          0\n",
       "Length_Employed             4936\n",
       "Home_Owner                 16711\n",
       "Annual_Income              16898\n",
       "Income_Verified                0\n",
       "Purpose_Of_Loan                0\n",
       "Debt_To_Income                 0\n",
       "Inquiries_Last_6Mo             0\n",
       "Months_Since_Deliquency    58859\n",
       "Number_Open_Accounts           0\n",
       "Total_Accounts                 0\n",
       "Gender                         0\n",
       "dtype: int64"
      ]
     },
     "execution_count": 37,
     "metadata": {},
     "output_type": "execute_result"
    }
   ],
   "source": [
    "dt_ts.isnull().sum()"
   ]
  },
  {
   "cell_type": "code",
   "execution_count": 38,
   "metadata": {},
   "outputs": [],
   "source": [
    "dt_ts[\"Loan_Amount_Requested\"]=dt_ts[\"Loan_Amount_Requested\"].str.replace(\",\",\"\")"
   ]
  },
  {
   "cell_type": "code",
   "execution_count": 39,
   "metadata": {},
   "outputs": [],
   "source": [
    "dt_ts[\"Loan_Amount_Requested\"]=pd.to_numeric(dt_ts[\"Loan_Amount_Requested\"],errors='coerce')"
   ]
  },
  {
   "cell_type": "code",
   "execution_count": 40,
   "metadata": {},
   "outputs": [
    {
     "data": {
      "text/plain": [
       "0.00      500.0\n",
       "0.01     1800.0\n",
       "0.02     2400.0\n",
       "0.03     2875.0\n",
       "0.04     3000.0\n",
       "0.05     3500.0\n",
       "0.06     4000.0\n",
       "0.07     4000.0\n",
       "0.08     4500.0\n",
       "0.09     4850.0\n",
       "0.10     5000.0\n",
       "0.11     5000.0\n",
       "0.12     5000.0\n",
       "0.13     5500.0\n",
       "0.14     5900.0\n",
       "0.15     6000.0\n",
       "0.16     6000.0\n",
       "0.17     6000.0\n",
       "0.18     6400.0\n",
       "0.19     6800.0\n",
       "0.20     7000.0\n",
       "0.21     7125.0\n",
       "0.22     7375.0\n",
       "0.23     7700.0\n",
       "0.24     8000.0\n",
       "0.25     8000.0\n",
       "0.26     8000.0\n",
       "0.27     8325.0\n",
       "0.28     8500.0\n",
       "0.29     9000.0\n",
       "         ...   \n",
       "0.70    18000.0\n",
       "0.71    18000.0\n",
       "0.72    18600.0\n",
       "0.73    19200.0\n",
       "0.74    19975.0\n",
       "0.75    20000.0\n",
       "0.76    20000.0\n",
       "0.77    20000.0\n",
       "0.78    20000.0\n",
       "0.79    20050.0\n",
       "0.80    21000.0\n",
       "0.81    21000.0\n",
       "0.82    22000.0\n",
       "0.83    22750.0\n",
       "0.84    23850.0\n",
       "0.85    24000.0\n",
       "0.86    24000.0\n",
       "0.87    25000.0\n",
       "0.88    25000.0\n",
       "0.89    25000.0\n",
       "0.90    26375.0\n",
       "0.91    28000.0\n",
       "0.92    28000.0\n",
       "0.93    29700.0\n",
       "0.94    30000.0\n",
       "0.95    30225.0\n",
       "0.96    33000.0\n",
       "0.97    35000.0\n",
       "0.98    35000.0\n",
       "0.99    35000.0\n",
       "Name: Loan_Amount_Requested, Length: 100, dtype: float64"
      ]
     },
     "execution_count": 40,
     "metadata": {},
     "output_type": "execute_result"
    }
   ],
   "source": [
    "dt_ts[\"Loan_Amount_Requested\"].quantile(np.arange(0,1,0.01))"
   ]
  },
  {
   "cell_type": "code",
   "execution_count": 41,
   "metadata": {},
   "outputs": [],
   "source": [
    "dt_ts[\"Loan_Amount_Requested\"]=np.where(dt_ts[\"Loan_Amount_Requested\"]>32000,32000,dt_ts[\"Loan_Amount_Requested\"])"
   ]
  },
  {
   "cell_type": "code",
   "execution_count": 42,
   "metadata": {},
   "outputs": [
    {
     "data": {
      "text/plain": [
       "count    109541.000000\n",
       "mean      14240.323030\n",
       "std        8022.595397\n",
       "min         500.000000\n",
       "25%        8000.000000\n",
       "50%       12000.000000\n",
       "75%       20000.000000\n",
       "max       32000.000000\n",
       "Name: Loan_Amount_Requested, dtype: float64"
      ]
     },
     "execution_count": 42,
     "metadata": {},
     "output_type": "execute_result"
    }
   ],
   "source": [
    "dt_ts[\"Loan_Amount_Requested\"].describe()"
   ]
  },
  {
   "cell_type": "code",
   "execution_count": 43,
   "metadata": {},
   "outputs": [
    {
     "data": {
      "text/plain": [
       "12000.0"
      ]
     },
     "execution_count": 43,
     "metadata": {},
     "output_type": "execute_result"
    }
   ],
   "source": [
    "iqr1=20000.000000-8000.000000\n",
    "iqr1"
   ]
  },
  {
   "cell_type": "code",
   "execution_count": 44,
   "metadata": {},
   "outputs": [
    {
     "data": {
      "text/plain": [
       "-4000.0"
      ]
     },
     "execution_count": 44,
     "metadata": {},
     "output_type": "execute_result"
    }
   ],
   "source": [
    "8000.000000-iqr1"
   ]
  },
  {
   "cell_type": "code",
   "execution_count": 45,
   "metadata": {},
   "outputs": [
    {
     "data": {
      "text/plain": [
       "32000.0"
      ]
     },
     "execution_count": 45,
     "metadata": {},
     "output_type": "execute_result"
    }
   ],
   "source": [
    "20000.000000+iqr1"
   ]
  },
  {
   "cell_type": "code",
   "execution_count": 46,
   "metadata": {},
   "outputs": [
    {
     "data": {
      "text/plain": [
       "10+ years    35413\n",
       "2 years       9800\n",
       "3 years       8504\n",
       "< 1 year      8328\n",
       "5 years       7228\n",
       "1 year        6914\n",
       "4 years       6609\n",
       "6 years       6257\n",
       "7 years       6136\n",
       "8 years       5198\n",
       "9 years       4218\n",
       "Name: Length_Employed, dtype: int64"
      ]
     },
     "execution_count": 46,
     "metadata": {},
     "output_type": "execute_result"
    }
   ],
   "source": [
    "dt_ts['Length_Employed'].value_counts()"
   ]
  },
  {
   "cell_type": "code",
   "execution_count": 47,
   "metadata": {},
   "outputs": [
    {
     "data": {
      "text/html": [
       "<div>\n",
       "<style scoped>\n",
       "    .dataframe tbody tr th:only-of-type {\n",
       "        vertical-align: middle;\n",
       "    }\n",
       "\n",
       "    .dataframe tbody tr th {\n",
       "        vertical-align: top;\n",
       "    }\n",
       "\n",
       "    .dataframe thead th {\n",
       "        text-align: right;\n",
       "    }\n",
       "</style>\n",
       "<table border=\"1\" class=\"dataframe\">\n",
       "  <thead>\n",
       "    <tr style=\"text-align: right;\">\n",
       "      <th></th>\n",
       "      <th>Annual_Income</th>\n",
       "    </tr>\n",
       "    <tr>\n",
       "      <th>Length_Employed</th>\n",
       "      <th></th>\n",
       "    </tr>\n",
       "  </thead>\n",
       "  <tbody>\n",
       "    <tr>\n",
       "      <th>1 year</th>\n",
       "      <td>58000.0</td>\n",
       "    </tr>\n",
       "    <tr>\n",
       "      <th>10+ years</th>\n",
       "      <td>70000.0</td>\n",
       "    </tr>\n",
       "    <tr>\n",
       "      <th>2 years</th>\n",
       "      <td>60000.0</td>\n",
       "    </tr>\n",
       "    <tr>\n",
       "      <th>3 years</th>\n",
       "      <td>60000.0</td>\n",
       "    </tr>\n",
       "    <tr>\n",
       "      <th>4 years</th>\n",
       "      <td>60000.0</td>\n",
       "    </tr>\n",
       "    <tr>\n",
       "      <th>5 years</th>\n",
       "      <td>60000.0</td>\n",
       "    </tr>\n",
       "    <tr>\n",
       "      <th>6 years</th>\n",
       "      <td>61000.0</td>\n",
       "    </tr>\n",
       "    <tr>\n",
       "      <th>7 years</th>\n",
       "      <td>63500.0</td>\n",
       "    </tr>\n",
       "    <tr>\n",
       "      <th>8 years</th>\n",
       "      <td>65000.0</td>\n",
       "    </tr>\n",
       "    <tr>\n",
       "      <th>9 years</th>\n",
       "      <td>65000.0</td>\n",
       "    </tr>\n",
       "    <tr>\n",
       "      <th>&lt; 1 year</th>\n",
       "      <td>57000.0</td>\n",
       "    </tr>\n",
       "  </tbody>\n",
       "</table>\n",
       "</div>"
      ],
      "text/plain": [
       "                 Annual_Income\n",
       "Length_Employed               \n",
       "1 year                 58000.0\n",
       "10+ years              70000.0\n",
       "2 years                60000.0\n",
       "3 years                60000.0\n",
       "4 years                60000.0\n",
       "5 years                60000.0\n",
       "6 years                61000.0\n",
       "7 years                63500.0\n",
       "8 years                65000.0\n",
       "9 years                65000.0\n",
       "< 1 year               57000.0"
      ]
     },
     "execution_count": 47,
     "metadata": {},
     "output_type": "execute_result"
    }
   ],
   "source": [
    "dt_ts[['Length_Employed','Annual_Income']].groupby('Length_Employed').median()"
   ]
  },
  {
   "cell_type": "code",
   "execution_count": 48,
   "metadata": {},
   "outputs": [],
   "source": [
    "dt_ts.loc[dt_ts['Annual_Income'] <60000.00,'Length_Employed'] = dt_ts.loc[dt_ts['Annual_Income'] <60000.00,'Length_Employed'].fillna('< 1 year')"
   ]
  },
  {
   "cell_type": "code",
   "execution_count": 49,
   "metadata": {},
   "outputs": [],
   "source": [
    "dt_ts.loc[dt_ts['Annual_Income'] >=60000.00,'Length_Employed'] = dt_ts.loc[dt_ts['Annual_Income'] >=60000.00,'Length_Employed'].fillna('2 years')"
   ]
  },
  {
   "cell_type": "code",
   "execution_count": 50,
   "metadata": {},
   "outputs": [],
   "source": [
    "dt_ts.loc[dt_ts['Annual_Income']>=70000.00,'Length_Employed']=dt_ts.loc[dt_ts['Annual_Income']>=70000.00,'Length_Employed'].fillna('10+ years')"
   ]
  },
  {
   "cell_type": "code",
   "execution_count": 51,
   "metadata": {},
   "outputs": [],
   "source": [
    "dt_ts['Length_Employed'].fillna('10+ years',inplace= True)"
   ]
  },
  {
   "cell_type": "code",
   "execution_count": 52,
   "metadata": {},
   "outputs": [
    {
     "data": {
      "text/plain": [
       "Mortgage    46925\n",
       "Rent        37511\n",
       "Own          8354\n",
       "Other          30\n",
       "None           10\n",
       "Name: Home_Owner, dtype: int64"
      ]
     },
     "execution_count": 52,
     "metadata": {},
     "output_type": "execute_result"
    }
   ],
   "source": [
    "dt_ts['Home_Owner'].value_counts()"
   ]
  },
  {
   "cell_type": "code",
   "execution_count": 53,
   "metadata": {},
   "outputs": [
    {
     "data": {
      "text/html": [
       "<div>\n",
       "<style scoped>\n",
       "    .dataframe tbody tr th:only-of-type {\n",
       "        vertical-align: middle;\n",
       "    }\n",
       "\n",
       "    .dataframe tbody tr th {\n",
       "        vertical-align: top;\n",
       "    }\n",
       "\n",
       "    .dataframe thead th {\n",
       "        text-align: right;\n",
       "    }\n",
       "</style>\n",
       "<table border=\"1\" class=\"dataframe\">\n",
       "  <thead>\n",
       "    <tr style=\"text-align: right;\">\n",
       "      <th></th>\n",
       "      <th>Annual_Income</th>\n",
       "    </tr>\n",
       "    <tr>\n",
       "      <th>Home_Owner</th>\n",
       "      <th></th>\n",
       "    </tr>\n",
       "  </thead>\n",
       "  <tbody>\n",
       "    <tr>\n",
       "      <th>Mortgage</th>\n",
       "      <td>72000.0</td>\n",
       "    </tr>\n",
       "    <tr>\n",
       "      <th>None</th>\n",
       "      <td>70500.0</td>\n",
       "    </tr>\n",
       "    <tr>\n",
       "      <th>Other</th>\n",
       "      <td>72000.0</td>\n",
       "    </tr>\n",
       "    <tr>\n",
       "      <th>Own</th>\n",
       "      <td>55000.0</td>\n",
       "    </tr>\n",
       "    <tr>\n",
       "      <th>Rent</th>\n",
       "      <td>54000.0</td>\n",
       "    </tr>\n",
       "  </tbody>\n",
       "</table>\n",
       "</div>"
      ],
      "text/plain": [
       "            Annual_Income\n",
       "Home_Owner               \n",
       "Mortgage          72000.0\n",
       "None              70500.0\n",
       "Other             72000.0\n",
       "Own               55000.0\n",
       "Rent              54000.0"
      ]
     },
     "execution_count": 53,
     "metadata": {},
     "output_type": "execute_result"
    }
   ],
   "source": [
    "dt_ts[['Home_Owner','Annual_Income']].groupby('Home_Owner').median()"
   ]
  },
  {
   "cell_type": "code",
   "execution_count": 54,
   "metadata": {},
   "outputs": [],
   "source": [
    "dt_ts.loc[dt_ts['Annual_Income']>=72000.0,'Home_Owner']=dt_ts.loc[dt_ts['Annual_Income']>=72000.0,'Home_Owner'].fillna('Mortgage')"
   ]
  },
  {
   "cell_type": "code",
   "execution_count": 55,
   "metadata": {},
   "outputs": [],
   "source": [
    "dt_ts.loc[dt_ts['Annual_Income']<72000.0,'Home_Owner']=dt_ts.loc[dt_ts['Annual_Income']<72000.0,'Home_Owner'].fillna('Rent')"
   ]
  },
  {
   "cell_type": "code",
   "execution_count": 56,
   "metadata": {},
   "outputs": [],
   "source": [
    "dt_ts['Home_Owner'].fillna('Mortgage',inplace=True)"
   ]
  },
  {
   "cell_type": "code",
   "execution_count": 57,
   "metadata": {},
   "outputs": [
    {
     "data": {
      "text/plain": [
       "0.00      3000.00\n",
       "0.01     18500.00\n",
       "0.02     22000.00\n",
       "0.03     25000.00\n",
       "0.04     26000.00\n",
       "0.05     28000.00\n",
       "0.06     30000.00\n",
       "0.07     30000.00\n",
       "0.08     31514.88\n",
       "0.09     32500.00\n",
       "0.10     34000.00\n",
       "0.11     35000.00\n",
       "0.12     35000.00\n",
       "0.13     36000.00\n",
       "0.14     37000.00\n",
       "0.15     38000.00\n",
       "0.16     39000.00\n",
       "0.17     40000.00\n",
       "0.18     40000.00\n",
       "0.19     40000.00\n",
       "0.20     41600.00\n",
       "0.21     42000.00\n",
       "0.22     43000.00\n",
       "0.23     44000.00\n",
       "0.24     45000.00\n",
       "0.25     45000.00\n",
       "0.26     45000.00\n",
       "0.27     46250.00\n",
       "0.28     47800.00\n",
       "0.29     48000.00\n",
       "          ...    \n",
       "0.70     81000.00\n",
       "0.71     83000.00\n",
       "0.72     85000.00\n",
       "0.73     85000.00\n",
       "0.74     86400.00\n",
       "0.75     89000.00\n",
       "0.76     90000.00\n",
       "0.77     90000.00\n",
       "0.78     92000.00\n",
       "0.79     95000.00\n",
       "0.80     96000.00\n",
       "0.81     98000.00\n",
       "0.82    100000.00\n",
       "0.83    100000.00\n",
       "0.84    103000.00\n",
       "0.85    105000.00\n",
       "0.86    109000.00\n",
       "0.87    110000.00\n",
       "0.88    115000.00\n",
       "0.89    118450.00\n",
       "0.90    120000.00\n",
       "0.91    125000.00\n",
       "0.92    130000.00\n",
       "0.93    135000.00\n",
       "0.94    140000.00\n",
       "0.95    150000.00\n",
       "0.96    160000.00\n",
       "0.97    175000.00\n",
       "0.98    200000.00\n",
       "0.99    250000.00\n",
       "Name: Annual_Income, Length: 100, dtype: float64"
      ]
     },
     "execution_count": 57,
     "metadata": {},
     "output_type": "execute_result"
    }
   ],
   "source": [
    "dt_ts['Annual_Income'].quantile(np.arange(0,1,0.01))"
   ]
  },
  {
   "cell_type": "code",
   "execution_count": 58,
   "metadata": {},
   "outputs": [
    {
     "data": {
      "text/plain": [
       "count    9.264300e+04\n",
       "mean     7.348541e+04\n",
       "std      5.563845e+04\n",
       "min      3.000000e+03\n",
       "25%      4.500000e+04\n",
       "50%      6.300000e+04\n",
       "75%      8.900000e+04\n",
       "max      7.446395e+06\n",
       "Name: Annual_Income, dtype: float64"
      ]
     },
     "execution_count": 58,
     "metadata": {},
     "output_type": "execute_result"
    }
   ],
   "source": [
    "dt_ts['Annual_Income'].describe()"
   ]
  },
  {
   "cell_type": "code",
   "execution_count": 59,
   "metadata": {},
   "outputs": [
    {
     "data": {
      "text/plain": [
       "44000.0"
      ]
     },
     "execution_count": 59,
     "metadata": {},
     "output_type": "execute_result"
    }
   ],
   "source": [
    "iqr2=8.900000e+04-4.500000e+04\n",
    "iqr2"
   ]
  },
  {
   "cell_type": "code",
   "execution_count": 60,
   "metadata": {},
   "outputs": [
    {
     "data": {
      "text/plain": [
       "1000.0"
      ]
     },
     "execution_count": 60,
     "metadata": {},
     "output_type": "execute_result"
    }
   ],
   "source": [
    "4.500000e+04-iqr2"
   ]
  },
  {
   "cell_type": "code",
   "execution_count": 61,
   "metadata": {},
   "outputs": [
    {
     "data": {
      "text/plain": [
       "133000.0"
      ]
     },
     "execution_count": 61,
     "metadata": {},
     "output_type": "execute_result"
    }
   ],
   "source": [
    "8.900000e+04+iqr2"
   ]
  },
  {
   "cell_type": "code",
   "execution_count": 62,
   "metadata": {},
   "outputs": [],
   "source": [
    "dt_ts['Annual_Income']=np.where(dt_ts['Annual_Income']>160000.00,160000.00,dt_ts['Annual_Income'])"
   ]
  },
  {
   "cell_type": "code",
   "execution_count": 63,
   "metadata": {},
   "outputs": [],
   "source": [
    "dt_ts['Annual_Income'].fillna(63000.0,inplace=True)"
   ]
  },
  {
   "cell_type": "code",
   "execution_count": 64,
   "metadata": {},
   "outputs": [],
   "source": [
    "dt_ts['Months_Since_Deliquency'].fillna(31,inplace=True)"
   ]
  },
  {
   "cell_type": "code",
   "execution_count": null,
   "metadata": {},
   "outputs": [],
   "source": []
  },
  {
   "cell_type": "code",
   "execution_count": 65,
   "metadata": {},
   "outputs": [],
   "source": [
    "dt_train=dt_tr.copy()"
   ]
  },
  {
   "cell_type": "code",
   "execution_count": 66,
   "metadata": {},
   "outputs": [],
   "source": [
    "X_test=dt_ts.copy()"
   ]
  },
  {
   "cell_type": "code",
   "execution_count": 67,
   "metadata": {},
   "outputs": [
    {
     "data": {
      "text/plain": [
       "Loan_Amount_Requested        int64\n",
       "Length_Employed             object\n",
       "Home_Owner                  object\n",
       "Annual_Income              float64\n",
       "Income_Verified             object\n",
       "Purpose_Of_Loan             object\n",
       "Debt_To_Income             float64\n",
       "Inquiries_Last_6Mo           int64\n",
       "Months_Since_Deliquency    float64\n",
       "Number_Open_Accounts         int64\n",
       "Total_Accounts               int64\n",
       "Gender                      object\n",
       "Interest_Rate                int64\n",
       "dtype: object"
      ]
     },
     "execution_count": 67,
     "metadata": {},
     "output_type": "execute_result"
    }
   ],
   "source": [
    "dt_train.dtypes"
   ]
  },
  {
   "cell_type": "code",
   "execution_count": 68,
   "metadata": {},
   "outputs": [],
   "source": [
    "X_train=dt_train.drop([\"Interest_Rate\"],axis=1)\n",
    "y_train=dt_train[\"Interest_Rate\"]"
   ]
  },
  {
   "cell_type": "code",
   "execution_count": 69,
   "metadata": {},
   "outputs": [],
   "source": [
    "X_train=pd.get_dummies(X_train)"
   ]
  },
  {
   "cell_type": "code",
   "execution_count": 70,
   "metadata": {},
   "outputs": [
    {
     "data": {
      "text/plain": [
       "Loan_Amount_Requested                         int64\n",
       "Annual_Income                               float64\n",
       "Debt_To_Income                              float64\n",
       "Inquiries_Last_6Mo                            int64\n",
       "Months_Since_Deliquency                     float64\n",
       "Number_Open_Accounts                          int64\n",
       "Total_Accounts                                int64\n",
       "Length_Employed_1 year                        uint8\n",
       "Length_Employed_10+ years                     uint8\n",
       "Length_Employed_2 years                       uint8\n",
       "Length_Employed_3 years                       uint8\n",
       "Length_Employed_4 years                       uint8\n",
       "Length_Employed_5 years                       uint8\n",
       "Length_Employed_6 years                       uint8\n",
       "Length_Employed_7 years                       uint8\n",
       "Length_Employed_8 years                       uint8\n",
       "Length_Employed_9 years                       uint8\n",
       "Length_Employed_< 1 year                      uint8\n",
       "Home_Owner_Mortgage                           uint8\n",
       "Home_Owner_None                               uint8\n",
       "Home_Owner_Other                              uint8\n",
       "Home_Owner_Own                                uint8\n",
       "Home_Owner_Rent                               uint8\n",
       "Income_Verified_VERIFIED - income             uint8\n",
       "Income_Verified_VERIFIED - income source      uint8\n",
       "Income_Verified_not verified                  uint8\n",
       "Purpose_Of_Loan_car                           uint8\n",
       "Purpose_Of_Loan_credit_card                   uint8\n",
       "Purpose_Of_Loan_debt_consolidation            uint8\n",
       "Purpose_Of_Loan_educational                   uint8\n",
       "Purpose_Of_Loan_home_improvement              uint8\n",
       "Purpose_Of_Loan_house                         uint8\n",
       "Purpose_Of_Loan_major_purchase                uint8\n",
       "Purpose_Of_Loan_medical                       uint8\n",
       "Purpose_Of_Loan_moving                        uint8\n",
       "Purpose_Of_Loan_other                         uint8\n",
       "Purpose_Of_Loan_renewable_energy              uint8\n",
       "Purpose_Of_Loan_small_business                uint8\n",
       "Purpose_Of_Loan_vacation                      uint8\n",
       "Purpose_Of_Loan_wedding                       uint8\n",
       "Gender_Female                                 uint8\n",
       "Gender_Male                                   uint8\n",
       "dtype: object"
      ]
     },
     "execution_count": 70,
     "metadata": {},
     "output_type": "execute_result"
    }
   ],
   "source": [
    "X_train.dtypes"
   ]
  },
  {
   "cell_type": "code",
   "execution_count": 71,
   "metadata": {},
   "outputs": [],
   "source": [
    "X_test=pd.get_dummies(X_test)"
   ]
  },
  {
   "cell_type": "code",
   "execution_count": 72,
   "metadata": {},
   "outputs": [
    {
     "data": {
      "text/plain": [
       "Loan_Amount_Requested                         int64\n",
       "Annual_Income                               float64\n",
       "Debt_To_Income                              float64\n",
       "Inquiries_Last_6Mo                            int64\n",
       "Months_Since_Deliquency                     float64\n",
       "Number_Open_Accounts                          int64\n",
       "Total_Accounts                                int64\n",
       "Length_Employed_1 year                        uint8\n",
       "Length_Employed_10+ years                     uint8\n",
       "Length_Employed_2 years                       uint8\n",
       "Length_Employed_3 years                       uint8\n",
       "Length_Employed_4 years                       uint8\n",
       "Length_Employed_5 years                       uint8\n",
       "Length_Employed_6 years                       uint8\n",
       "Length_Employed_7 years                       uint8\n",
       "Length_Employed_8 years                       uint8\n",
       "Length_Employed_9 years                       uint8\n",
       "Length_Employed_< 1 year                      uint8\n",
       "Home_Owner_Mortgage                           uint8\n",
       "Home_Owner_None                               uint8\n",
       "Home_Owner_Other                              uint8\n",
       "Home_Owner_Own                                uint8\n",
       "Home_Owner_Rent                               uint8\n",
       "Income_Verified_VERIFIED - income             uint8\n",
       "Income_Verified_VERIFIED - income source      uint8\n",
       "Income_Verified_not verified                  uint8\n",
       "Purpose_Of_Loan_car                           uint8\n",
       "Purpose_Of_Loan_credit_card                   uint8\n",
       "Purpose_Of_Loan_debt_consolidation            uint8\n",
       "Purpose_Of_Loan_educational                   uint8\n",
       "Purpose_Of_Loan_home_improvement              uint8\n",
       "Purpose_Of_Loan_house                         uint8\n",
       "Purpose_Of_Loan_major_purchase                uint8\n",
       "Purpose_Of_Loan_medical                       uint8\n",
       "Purpose_Of_Loan_moving                        uint8\n",
       "Purpose_Of_Loan_other                         uint8\n",
       "Purpose_Of_Loan_renewable_energy              uint8\n",
       "Purpose_Of_Loan_small_business                uint8\n",
       "Purpose_Of_Loan_vacation                      uint8\n",
       "Purpose_Of_Loan_wedding                       uint8\n",
       "Gender_Female                                 uint8\n",
       "Gender_Male                                   uint8\n",
       "dtype: object"
      ]
     },
     "execution_count": 72,
     "metadata": {},
     "output_type": "execute_result"
    }
   ],
   "source": [
    "X_test.dtypes"
   ]
  },
  {
   "cell_type": "code",
   "execution_count": 73,
   "metadata": {},
   "outputs": [
    {
     "data": {
      "text/plain": [
       "(164309, 42)"
      ]
     },
     "execution_count": 73,
     "metadata": {},
     "output_type": "execute_result"
    }
   ],
   "source": [
    "X_train.shape"
   ]
  },
  {
   "cell_type": "code",
   "execution_count": 74,
   "metadata": {},
   "outputs": [
    {
     "data": {
      "text/plain": [
       "(164309, 42)"
      ]
     },
     "execution_count": 74,
     "metadata": {},
     "output_type": "execute_result"
    }
   ],
   "source": [
    "X_train.shape"
   ]
  },
  {
   "cell_type": "markdown",
   "metadata": {},
   "source": [
    "###  FEATURE IMPORTANCE\n",
    "\n",
    "1.ExtraTreesClassifer"
   ]
  },
  {
   "cell_type": "code",
   "execution_count": 75,
   "metadata": {},
   "outputs": [],
   "source": [
    "from sklearn.ensemble import ExtraTreesClassifier"
   ]
  },
  {
   "cell_type": "code",
   "execution_count": 76,
   "metadata": {},
   "outputs": [
    {
     "name": "stderr",
     "output_type": "stream",
     "text": [
      "C:\\Users\\Soma\\Anaconda3\\lib\\site-packages\\sklearn\\ensemble\\forest.py:245: FutureWarning: The default value of n_estimators will change from 10 in version 0.20 to 100 in 0.22.\n",
      "  \"10 in version 0.20 to 100 in 0.22.\", FutureWarning)\n"
     ]
    },
    {
     "name": "stdout",
     "output_type": "stream",
     "text": [
      "[1.37084693e-01 1.28791731e-01 1.42276279e-01 5.52862408e-02\n",
      " 9.52116354e-02 1.20160854e-01 1.31291477e-01 7.97615160e-03\n",
      " 1.19827269e-02 9.56113902e-03 8.99008952e-03 8.24348645e-03\n",
      " 8.61584500e-03 7.86821682e-03 7.71534941e-03 7.50987683e-03\n",
      " 6.23835761e-03 9.40467097e-03 5.73326089e-03 4.06295724e-05\n",
      " 1.33969633e-04 5.28641409e-03 5.66324222e-03 7.46384339e-03\n",
      " 4.45681802e-03 1.38187180e-02 1.61785646e-03 6.61255313e-03\n",
      " 4.58994421e-03 2.86350008e-04 2.77252342e-03 9.76586811e-04\n",
      " 2.06755370e-03 1.17555437e-03 1.19800158e-03 4.33134754e-03\n",
      " 3.11736913e-04 1.71400092e-03 1.00105402e-03 9.96739280e-04\n",
      " 1.19194384e-02 1.16230440e-02]\n"
     ]
    }
   ],
   "source": [
    "model = ExtraTreesClassifier()\n",
    "model.fit(X_train,y_train)\n",
    "print(model.feature_importances_)"
   ]
  },
  {
   "cell_type": "code",
   "execution_count": 80,
   "metadata": {},
   "outputs": [
    {
     "data": {
      "image/png": "[encoded data removed]",
      "text/plain": [
       "<Figure size 432x288 with 1 Axes>"
      ]
     },
     "metadata": {
      "needs_background": "light"
     },
     "output_type": "display_data"
    }
   ],
   "source": [
    "feat_importances = pd.Series(model.feature_importances_, index=X_train.columns)\n",
    "feat_importances.nlargest(15).plot(kind='barh')\n",
    "plt.show()"
   ]
  },
  {
   "cell_type": "markdown",
   "metadata": {},
   "source": [
    "#### 2. Correlation Heat map"
   ]
  },
  {
   "cell_type": "code",
   "execution_count": 77,
   "metadata": {},
   "outputs": [],
   "source": [
    "import seaborn as sns"
   ]
  },
  {
   "cell_type": "code",
   "execution_count": 78,
   "metadata": {},
   "outputs": [
    {
     "data": {
      "text/plain": [
       "<Figure size 2880x2880 with 0 Axes>"
      ]
     },
     "execution_count": 78,
     "metadata": {},
     "output_type": "execute_result"
    },
    {
     "data": {
      "text/plain": [
       "<Figure size 2880x2880 with 0 Axes>"
      ]
     },
     "metadata": {},
     "output_type": "display_data"
    }
   ],
   "source": [
    "corrmat = dt_train.corr()\n",
    "top_corr_features = corrmat.index\n",
    "plt.figure(figsize=(40,40))"
   ]
  },
  {
   "cell_type": "code",
   "execution_count": 79,
   "metadata": {},
   "outputs": [
    {
     "data": {
      "image/png": "[encoded data removed]",
      "text/plain": [
       "<Figure size 432x288 with 2 Axes>"
      ]
     },
     "metadata": {
      "needs_background": "light"
     },
     "output_type": "display_data"
    }
   ],
   "source": [
    "g=sns.heatmap(dt_train[top_corr_features].corr(),annot=True,cmap=\"RdYlGn\")"
   ]
  },
  {
   "cell_type": "markdown",
   "metadata": {},
   "source": [
    "### FEATURE SELECTION"
   ]
  },
  {
   "cell_type": "code",
   "execution_count": 82,
   "metadata": {},
   "outputs": [],
   "source": [
    "X_train1=X_train[['Loan_Amount_Requested', 'Annual_Income', 'Debt_To_Income','Inquiries_Last_6Mo', 'Months_Since_Deliquency', 'Number_Open_Accounts','Total_Accounts', 'Length_Employed_10+ years','Length_Employed_2 years', 'Length_Employed_3 years','Length_Employed_5 years','Income_Verified_VERIFIED - income','Income_Verified_not verified','Gender_Female', 'Gender_Male']]"
   ]
  },
  {
   "cell_type": "code",
   "execution_count": 83,
   "metadata": {},
   "outputs": [
    {
     "data": {
      "text/plain": [
       "(164309, 15)"
      ]
     },
     "execution_count": 83,
     "metadata": {},
     "output_type": "execute_result"
    }
   ],
   "source": [
    "X_train1.shape"
   ]
  },
  {
   "cell_type": "code",
   "execution_count": 84,
   "metadata": {},
   "outputs": [],
   "source": [
    "X_test1=X_test[['Loan_Amount_Requested', 'Annual_Income', 'Debt_To_Income','Inquiries_Last_6Mo', 'Months_Since_Deliquency', 'Number_Open_Accounts','Total_Accounts', 'Length_Employed_10+ years','Length_Employed_2 years', 'Length_Employed_3 years','Length_Employed_5 years','Income_Verified_VERIFIED - income','Income_Verified_not verified','Gender_Female', 'Gender_Male']]"
   ]
  },
  {
   "cell_type": "code",
   "execution_count": 85,
   "metadata": {},
   "outputs": [
    {
     "data": {
      "text/plain": [
       "(109541, 15)"
      ]
     },
     "execution_count": 85,
     "metadata": {},
     "output_type": "execute_result"
    }
   ],
   "source": [
    "X_test1.shape"
   ]
  },
  {
   "cell_type": "code",
   "execution_count": 86,
   "metadata": {},
   "outputs": [],
   "source": [
    "X_train2=X_train[['Loan_Amount_Requested', 'Annual_Income', 'Debt_To_Income','Inquiries_Last_6Mo', 'Months_Since_Deliquency', 'Number_Open_Accounts','Total_Accounts', 'Length_Employed_10+ years','Income_Verified_not verified', 'Gender_Male']]"
   ]
  },
  {
   "cell_type": "code",
   "execution_count": 87,
   "metadata": {},
   "outputs": [
    {
     "data": {
      "text/plain": [
       "(164309, 10)"
      ]
     },
     "execution_count": 87,
     "metadata": {},
     "output_type": "execute_result"
    }
   ],
   "source": [
    "X_train2.shape"
   ]
  },
  {
   "cell_type": "code",
   "execution_count": 88,
   "metadata": {},
   "outputs": [],
   "source": [
    "X_test2=X_test[['Loan_Amount_Requested', 'Annual_Income', 'Debt_To_Income','Inquiries_Last_6Mo', 'Months_Since_Deliquency', 'Number_Open_Accounts','Total_Accounts', 'Length_Employed_10+ years','Income_Verified_not verified', 'Gender_Male']]"
   ]
  },
  {
   "cell_type": "code",
   "execution_count": 89,
   "metadata": {},
   "outputs": [
    {
     "data": {
      "text/plain": [
       "(109541, 10)"
      ]
     },
     "execution_count": 89,
     "metadata": {},
     "output_type": "execute_result"
    }
   ],
   "source": [
    "X_test2.shape"
   ]
  },
  {
   "cell_type": "markdown",
   "metadata": {},
   "source": [
    "### MODEL BUILDING"
   ]
  },
  {
   "cell_type": "code",
   "execution_count": 90,
   "metadata": {},
   "outputs": [
    {
     "name": "stderr",
     "output_type": "stream",
     "text": [
      "C:\\Users\\Soma\\Anaconda3\\lib\\site-packages\\distributed\\utils.py:139: RuntimeWarning: Couldn't detect a suitable IP address for reaching '8.8.8.8', defaulting to '127.0.0.1': [WinError 10065] A socket operation was attempted to an unreachable host\n",
      "  RuntimeWarning,\n"
     ]
    }
   ],
   "source": [
    "import sklearn.tree as tree\n",
    "from sklearn.ensemble import RandomForestClassifier\n",
    "from sklearn.ensemble import GradientBoostingClassifier\n",
    "from sklearn.neighbors import KNeighborsClassifier\n",
    "from sklearn.metrics import f1_score\n",
    "from sklearn.ensemble import RandomForestClassifier\n",
    "from sklearn.preprocessing import LabelEncoder,MinMaxScaler,StandardScaler\n",
    "from sklearn.model_selection import train_test_split,RandomizedSearchCV,KFold,StratifiedKFold\n",
    "import lightgbm as lgb\n",
    "import xgboost as xgb"
   ]
  },
  {
   "cell_type": "code",
   "execution_count": 91,
   "metadata": {},
   "outputs": [],
   "source": [
    "sk = StratifiedKFold(n_splits=5,shuffle=False,random_state=42)"
   ]
  },
  {
   "cell_type": "markdown",
   "metadata": {},
   "source": [
    "### 1.XGBoost Algorithm"
   ]
  },
  {
   "cell_type": "code",
   "execution_count": 92,
   "metadata": {},
   "outputs": [],
   "source": [
    "\n",
    "ht1=xgb.XGBClassifier(random_state=42,n_jobs=-1,verbosity=1,objective=\"multi:softmax\",num_class=3)\n",
    "prms   = {\"max_depth\":[4,6,8,10],\n",
    "         \"n_estimators\":[80,130,180,230,300,350,400],\n",
    "        \"learning_rate\":[0.1,0.01,0.03,0.07,0.001],\n",
    "       \"subsample\":[0.5,0.6,0.7,0.8,0.9],\n",
    "          \"colsample_bytree\":[0.5,0.6,0.7,0.8,0.9],\n",
    "          \"reg_alpha\":[0.25,0.5,1],\n",
    "          \"reg_lambda\":[0.25,0.5,1]}\n",
    "xgb_mod = RandomizedSearchCV(estimator=ht1,param_distributions=prms,cv=sk.split(X_train1,y_train),scoring='f1_weighted')\n",
    "xgb_mod.fit(X_train1,y_train) ####"
   ]
  },
  {
   "cell_type": "code",
   "execution_count": 93,
   "metadata": {},
   "outputs": [],
   "source": [
    "xgb_mod.best_estimator_,xgb_mod.best_params_,xgb_mod.best_score_"
   ]
  },
  {
   "cell_type": "markdown",
   "metadata": {},
   "source": [
    "###  2. LightGBM Algorithm"
   ]
  },
  {
   "cell_type": "code",
   "execution_count": 94,
   "metadata": {},
   "outputs": [],
   "source": [
    "ht2 = lgb.LGBMClassifier(boosting_type='gbdt',objective='multiclass',num_class=3,random_state=42,n_jobs=-1,verbose=1,)"
   ]
  },
  {
   "cell_type": "code",
   "execution_count": 1,
   "metadata": {},
   "outputs": [],
   "source": [
    "#### Hyperparameter Tuning"
   ]
  },
  {
   "cell_type": "code",
   "execution_count": 95,
   "metadata": {},
   "outputs": [],
   "source": [
    "prms   = {\"max_depth\":[4,6,8,10],\n",
    "          \"learning_rate\":[0.1,0.01,0.03,0.07,0.001],\n",
    "          \"subsample\":[0.5,0.7,0.9],\n",
    "          \"colsample_bytree\":[0.5,0.7,0.9],\n",
    "          \"reg_alpha\":[0,0.25,0.5,1],\n",
    "          \"reg_lambda\":[0,0.25,0.5,1],\n",
    "          \"num_leaves\":[15,63,127],\n",
    "          \"min_data_in_leaf\":[1,7,10,25,50,100],\n",
    "          \"n_estimators\":list(range(50,570,100))}"
   ]
  },
  {
   "cell_type": "code",
   "execution_count": 96,
   "metadata": {},
   "outputs": [
    {
     "name": "stderr",
     "output_type": "stream",
     "text": [
      "C:\\Users\\Soma\\Anaconda3\\lib\\site-packages\\sklearn\\metrics\\classification.py:1437: UndefinedMetricWarning: F-score is ill-defined and being set to 0.0 in labels with no predicted samples.\n",
      "  'precision', 'predicted', average, warn_for)\n"
     ]
    },
    {
     "data": {
      "text/plain": [
       "RandomizedSearchCV(cv=<generator object _BaseKFold.split at 0x0000017707361408>,\n",
       "                   error_score='raise-deprecating',\n",
       "                   estimator=LGBMClassifier(boosting_type='gbdt',\n",
       "                                            class_weight=None,\n",
       "                                            colsample_bytree=1.0,\n",
       "                                            importance_type='split',\n",
       "                                            learning_rate=0.1, max_depth=-1,\n",
       "                                            min_child_samples=20,\n",
       "                                            min_child_weight=0.001,\n",
       "                                            min_split_gain=0.0,\n",
       "                                            n_estimators=100, n_jobs=-1,\n",
       "                                            num_class=3,...\n",
       "                                        'learning_rate': [0.1, 0.01, 0.03, 0.07,\n",
       "                                                          0.001],\n",
       "                                        'max_depth': [4, 6, 8, 10],\n",
       "                                        'min_data_in_leaf': [1, 7, 10, 25, 50,\n",
       "                                                             100],\n",
       "                                        'n_estimators': [50, 150, 250, 350, 450,\n",
       "                                                         550],\n",
       "                                        'num_leaves': [15, 63, 127],\n",
       "                                        'reg_alpha': [0, 0.25, 0.5, 1],\n",
       "                                        'reg_lambda': [0, 0.25, 0.5, 1],\n",
       "                                        'subsample': [0.5, 0.7, 0.9]},\n",
       "                   pre_dispatch='2*n_jobs', random_state=None, refit=True,\n",
       "                   return_train_score=False, scoring='f1_weighted', verbose=0)"
      ]
     },
     "execution_count": 96,
     "metadata": {},
     "output_type": "execute_result"
    }
   ],
   "source": [
    "lgbm_mod = RandomizedSearchCV(estimator=ht2,param_distributions=prms,cv=sk.split(X_train2,y_train),scoring='f1_weighted')\n",
    "lgbm_mod.fit(X_train2,y_train)"
   ]
  },
  {
   "cell_type": "code",
   "execution_count": 97,
   "metadata": {},
   "outputs": [
    {
     "data": {
      "text/plain": [
       "(LGBMClassifier(boosting_type='gbdt', class_weight=None, colsample_bytree=0.7,\n",
       "                importance_type='split', learning_rate=0.1, max_depth=4,\n",
       "                min_child_samples=20, min_child_weight=0.001,\n",
       "                min_data_in_leaf=100, min_split_gain=0.0, n_estimators=550,\n",
       "                n_jobs=-1, num_class=3, num_leaves=63, objective='multiclass',\n",
       "                random_state=42, reg_alpha=0, reg_lambda=1, silent=True,\n",
       "                subsample=0.5, subsample_for_bin=200000, subsample_freq=0,\n",
       "                verbose=1),\n",
       " {'subsample': 0.5,\n",
       "  'reg_lambda': 1,\n",
       "  'reg_alpha': 0,\n",
       "  'num_leaves': 63,\n",
       "  'n_estimators': 550,\n",
       "  'min_data_in_leaf': 100,\n",
       "  'max_depth': 4,\n",
       "  'learning_rate': 0.1,\n",
       "  'colsample_bytree': 0.7},\n",
       " 0.5149860332348692)"
      ]
     },
     "execution_count": 97,
     "metadata": {},
     "output_type": "execute_result"
    }
   ],
   "source": [
    "lgbm_mod.best_estimator_,lgbm_mod.best_params_,lgbm_mod.best_score_"
   ]
  },
  {
   "cell_type": "markdown",
   "metadata": {},
   "source": [
    "#### PREDICTION"
   ]
  },
  {
   "cell_type": "code",
   "execution_count": 98,
   "metadata": {},
   "outputs": [],
   "source": [
    "pred1=lgbm_mod.best_estimator_.predict(X_test2)"
   ]
  },
  {
   "cell_type": "markdown",
   "metadata": {},
   "source": [
    "####  SUBMISSION FILE"
   ]
  },
  {
   "cell_type": "code",
   "execution_count": 107,
   "metadata": {},
   "outputs": [],
   "source": [
    "sub1=pd.DataFrame({\"Loan_ID\":Loan_ID,\"Interest_Rate\":pred1})"
   ]
  },
  {
   "cell_type": "code",
   "execution_count": 108,
   "metadata": {},
   "outputs": [],
   "source": [
    "sub1.to_csv(\"sbm_bnk.csv\",index=False)"
   ]
  },
  {
   "cell_type": "code",
   "execution_count": null,
   "metadata": {},
   "outputs": [],
   "source": []
  }
 ],
 "metadata": {
  "kernelspec": {
   "display_name": "Python 3",
   "language": "python",
   "name": "python3"
  },
  "language_info": {
   "codemirror_mode": {
    "name": "ipython",
    "version": 3
   },
   "file_extension": ".py",
   "mimetype": "text/x-python",
   "name": "python",
   "nbconvert_exporter": "python",
   "pygments_lexer": "ipython3",
   "version": "3.7.1"
  }
 },
 "nbformat": 4,
 "nbformat_minor": 2
}
